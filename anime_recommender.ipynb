{
 "cells": [
  {
   "cell_type": "code",
   "execution_count": 1,
   "id": "300e3e84",
   "metadata": {},
   "outputs": [],
   "source": [
    "import numpy as np # linear algebra\n",
    "import pandas as pd # data processing, CSV file I/O (e.g. pd.read_csv)"
   ]
  },
  {
   "cell_type": "code",
   "execution_count": 2,
   "id": "76714ec8",
   "metadata": {},
   "outputs": [],
   "source": [
    "animes = pd.read_csv('anime.csv')"
   ]
  },
  {
   "cell_type": "code",
   "execution_count": 3,
   "id": "cd009987",
   "metadata": {},
   "outputs": [],
   "source": [
    "animes.rename({'Anime-PlanetID': 'anime_id', 'Name':'title'},axis=1,inplace='True')"
   ]
  },
  {
   "cell_type": "code",
   "execution_count": 4,
   "id": "d817eff8",
   "metadata": {},
   "outputs": [
    {
     "data": {
      "text/html": [
       "<div>\n",
       "<style scoped>\n",
       "    .dataframe tbody tr th:only-of-type {\n",
       "        vertical-align: middle;\n",
       "    }\n",
       "\n",
       "    .dataframe tbody tr th {\n",
       "        vertical-align: top;\n",
       "    }\n",
       "\n",
       "    .dataframe thead th {\n",
       "        text-align: right;\n",
       "    }\n",
       "</style>\n",
       "<table border=\"1\" class=\"dataframe\">\n",
       "  <thead>\n",
       "    <tr style=\"text-align: right;\">\n",
       "      <th></th>\n",
       "      <th>anime_id</th>\n",
       "      <th>title</th>\n",
       "      <th>Alternative Name</th>\n",
       "      <th>Rating Score</th>\n",
       "      <th>Number Votes</th>\n",
       "      <th>Tags</th>\n",
       "      <th>Content Warning</th>\n",
       "      <th>Type</th>\n",
       "      <th>Episodes</th>\n",
       "      <th>Finished</th>\n",
       "      <th>Duration</th>\n",
       "      <th>StartYear</th>\n",
       "      <th>EndYear</th>\n",
       "      <th>Season</th>\n",
       "      <th>Studios</th>\n",
       "      <th>Synopsis</th>\n",
       "      <th>Url</th>\n",
       "    </tr>\n",
       "  </thead>\n",
       "  <tbody>\n",
       "    <tr>\n",
       "      <th>0</th>\n",
       "      <td>10</td>\n",
       "      <td>The Prince of Tennis</td>\n",
       "      <td>Tennis no Ouji-sama</td>\n",
       "      <td>4.037</td>\n",
       "      <td>10889</td>\n",
       "      <td>Comedy, Drama, Shounen, Sports, Tennis, Based ...</td>\n",
       "      <td>Unknown</td>\n",
       "      <td>TV</td>\n",
       "      <td>178</td>\n",
       "      <td>True</td>\n",
       "      <td>Unknown</td>\n",
       "      <td>2001</td>\n",
       "      <td>2005</td>\n",
       "      <td>Fall 2001</td>\n",
       "      <td>Production I.G, Trans Arts</td>\n",
       "      <td>Meet Ryoma Echizen, the cocky prince of tennis...</td>\n",
       "      <td>https://www.anime-planet.com/anime/the-prince-...</td>\n",
       "    </tr>\n",
       "    <tr>\n",
       "      <th>1</th>\n",
       "      <td>100</td>\n",
       "      <td>Neon Genesis Evangelion</td>\n",
       "      <td>Shinseiki Evangelion</td>\n",
       "      <td>4.248</td>\n",
       "      <td>54463</td>\n",
       "      <td>Drama, Mecha, Sci Fi, Conspiracy, Kaijuu, Lone...</td>\n",
       "      <td>Emotional Abuse, Explicit Violence, Mature The...</td>\n",
       "      <td>TV</td>\n",
       "      <td>26</td>\n",
       "      <td>True</td>\n",
       "      <td>Unknown</td>\n",
       "      <td>1995</td>\n",
       "      <td>1996</td>\n",
       "      <td>Fall 1995</td>\n",
       "      <td>GAINAX, Tatsunoko Production</td>\n",
       "      <td>In the future, a devastating event known as Se...</td>\n",
       "      <td>https://www.anime-planet.com/anime/neon-genesi...</td>\n",
       "    </tr>\n",
       "    <tr>\n",
       "      <th>2</th>\n",
       "      <td>1000</td>\n",
       "      <td>Full Metal Panic! The Second Raid</td>\n",
       "      <td>Unknown</td>\n",
       "      <td>4.35</td>\n",
       "      <td>23948</td>\n",
       "      <td>Action, Comedy, Mecha, Sci Fi, Shounen, Milita...</td>\n",
       "      <td>Explicit Violence, Nudity</td>\n",
       "      <td>TV</td>\n",
       "      <td>13</td>\n",
       "      <td>True</td>\n",
       "      <td>Unknown</td>\n",
       "      <td>2005</td>\n",
       "      <td>2005</td>\n",
       "      <td>Summer 2005</td>\n",
       "      <td>Kyoto Animation</td>\n",
       "      <td>Half a year has passed since Sousuke Sagara to...</td>\n",
       "      <td>https://www.anime-planet.com/anime/full-metal-...</td>\n",
       "    </tr>\n",
       "    <tr>\n",
       "      <th>3</th>\n",
       "      <td>10000</td>\n",
       "      <td>22/7: Shampoo no Nioi ga Shita</td>\n",
       "      <td>Unknown</td>\n",
       "      <td>2.8</td>\n",
       "      <td>131</td>\n",
       "      <td>Idols, School Life, CG Animation</td>\n",
       "      <td>Unknown</td>\n",
       "      <td>Music</td>\n",
       "      <td>1</td>\n",
       "      <td>True</td>\n",
       "      <td>5</td>\n",
       "      <td>2018</td>\n",
       "      <td>2018</td>\n",
       "      <td>Unknown</td>\n",
       "      <td>Unknown</td>\n",
       "      <td>The idol group 22/7 perform the song Shampoo n...</td>\n",
       "      <td>https://www.anime-planet.com/anime/22-7-shampo...</td>\n",
       "    </tr>\n",
       "    <tr>\n",
       "      <th>4</th>\n",
       "      <td>10001</td>\n",
       "      <td>Oshiri Tantei: Puputto Fumutto Kaiketsu Dance</td>\n",
       "      <td>Unknown</td>\n",
       "      <td>1.271</td>\n",
       "      <td>21</td>\n",
       "      <td>Family Friendly</td>\n",
       "      <td>Unknown</td>\n",
       "      <td>Web</td>\n",
       "      <td>1</td>\n",
       "      <td>True</td>\n",
       "      <td>2</td>\n",
       "      <td>2017</td>\n",
       "      <td>2017</td>\n",
       "      <td>Unknown</td>\n",
       "      <td>Toei Animation</td>\n",
       "      <td>No synopsis yet - check back soon!</td>\n",
       "      <td>https://www.anime-planet.com/anime/oshiri-tant...</td>\n",
       "    </tr>\n",
       "  </tbody>\n",
       "</table>\n",
       "</div>"
      ],
      "text/plain": [
       "   anime_id                                          title  \\\n",
       "0        10                           The Prince of Tennis   \n",
       "1       100                        Neon Genesis Evangelion   \n",
       "2      1000              Full Metal Panic! The Second Raid   \n",
       "3     10000                 22/7: Shampoo no Nioi ga Shita   \n",
       "4     10001  Oshiri Tantei: Puputto Fumutto Kaiketsu Dance   \n",
       "\n",
       "       Alternative Name Rating Score Number Votes  \\\n",
       "0   Tennis no Ouji-sama        4.037        10889   \n",
       "1  Shinseiki Evangelion        4.248        54463   \n",
       "2               Unknown         4.35        23948   \n",
       "3               Unknown          2.8          131   \n",
       "4               Unknown        1.271           21   \n",
       "\n",
       "                                                Tags  \\\n",
       "0  Comedy, Drama, Shounen, Sports, Tennis, Based ...   \n",
       "1  Drama, Mecha, Sci Fi, Conspiracy, Kaijuu, Lone...   \n",
       "2  Action, Comedy, Mecha, Sci Fi, Shounen, Milita...   \n",
       "3                   Idols, School Life, CG Animation   \n",
       "4                                    Family Friendly   \n",
       "\n",
       "                                     Content Warning   Type Episodes  \\\n",
       "0                                            Unknown     TV      178   \n",
       "1  Emotional Abuse, Explicit Violence, Mature The...     TV       26   \n",
       "2                          Explicit Violence, Nudity     TV       13   \n",
       "3                                            Unknown  Music        1   \n",
       "4                                            Unknown    Web        1   \n",
       "\n",
       "   Finished Duration StartYear EndYear       Season  \\\n",
       "0      True  Unknown      2001    2005    Fall 2001   \n",
       "1      True  Unknown      1995    1996    Fall 1995   \n",
       "2      True  Unknown      2005    2005  Summer 2005   \n",
       "3      True        5      2018    2018      Unknown   \n",
       "4      True        2      2017    2017      Unknown   \n",
       "\n",
       "                        Studios  \\\n",
       "0    Production I.G, Trans Arts   \n",
       "1  GAINAX, Tatsunoko Production   \n",
       "2               Kyoto Animation   \n",
       "3                       Unknown   \n",
       "4                Toei Animation   \n",
       "\n",
       "                                            Synopsis  \\\n",
       "0  Meet Ryoma Echizen, the cocky prince of tennis...   \n",
       "1  In the future, a devastating event known as Se...   \n",
       "2  Half a year has passed since Sousuke Sagara to...   \n",
       "3  The idol group 22/7 perform the song Shampoo n...   \n",
       "4                 No synopsis yet - check back soon!   \n",
       "\n",
       "                                                 Url  \n",
       "0  https://www.anime-planet.com/anime/the-prince-...  \n",
       "1  https://www.anime-planet.com/anime/neon-genesi...  \n",
       "2  https://www.anime-planet.com/anime/full-metal-...  \n",
       "3  https://www.anime-planet.com/anime/22-7-shampo...  \n",
       "4  https://www.anime-planet.com/anime/oshiri-tant...  "
      ]
     },
     "execution_count": 4,
     "metadata": {},
     "output_type": "execute_result"
    }
   ],
   "source": [
    "animes.head()"
   ]
  },
  {
   "cell_type": "code",
   "execution_count": 5,
   "id": "a6c55364",
   "metadata": {
    "scrolled": true
   },
   "outputs": [
    {
     "data": {
      "text/plain": [
       "'Meet Ryoma Echizen, the cocky prince of tennis. He comes to Japan from America where he is known as the Prince of Tennis – but that is no surprise considering he is the son of the former tennis pro, Nanjiroh Echizen, otherwise known as the Samurai! Upon transferring to the school Seishun Gakuen, he meets the regulars of the tennis club, and becomes the first freshman to become a regular; but he has a lot to learn yet about being a tennis star. Ryoma, along with the rest of his teammates, aspire to win the Nationals; but first, they must defeat the other teams which stand in their way!'"
      ]
     },
     "execution_count": 5,
     "metadata": {},
     "output_type": "execute_result"
    }
   ],
   "source": [
    "animes.iloc[0]['Synopsis']"
   ]
  },
  {
   "cell_type": "code",
   "execution_count": 6,
   "id": "e22fb639",
   "metadata": {},
   "outputs": [
    {
     "data": {
      "text/plain": [
       "'Comedy, Drama, Shounen, Sports, Tennis, Based on a Manga'"
      ]
     },
     "execution_count": 6,
     "metadata": {},
     "output_type": "execute_result"
    }
   ],
   "source": [
    "animes.iloc[0]['Tags']"
   ]
  },
  {
   "cell_type": "code",
   "execution_count": 7,
   "id": "65ee568a",
   "metadata": {},
   "outputs": [
    {
     "data": {
      "text/plain": [
       "(16621, 17)"
      ]
     },
     "execution_count": 7,
     "metadata": {},
     "output_type": "execute_result"
    }
   ],
   "source": [
    "animes.shape"
   ]
  },
  {
   "cell_type": "code",
   "execution_count": 8,
   "id": "3a6166b8",
   "metadata": {},
   "outputs": [],
   "source": [
    "animes=animes[['anime_id','title','Tags','Synopsis']]"
   ]
  },
  {
   "cell_type": "code",
   "execution_count": 9,
   "id": "e8de13fb",
   "metadata": {},
   "outputs": [
    {
     "data": {
      "text/html": [
       "<div>\n",
       "<style scoped>\n",
       "    .dataframe tbody tr th:only-of-type {\n",
       "        vertical-align: middle;\n",
       "    }\n",
       "\n",
       "    .dataframe tbody tr th {\n",
       "        vertical-align: top;\n",
       "    }\n",
       "\n",
       "    .dataframe thead th {\n",
       "        text-align: right;\n",
       "    }\n",
       "</style>\n",
       "<table border=\"1\" class=\"dataframe\">\n",
       "  <thead>\n",
       "    <tr style=\"text-align: right;\">\n",
       "      <th></th>\n",
       "      <th>anime_id</th>\n",
       "      <th>title</th>\n",
       "      <th>Tags</th>\n",
       "      <th>Synopsis</th>\n",
       "    </tr>\n",
       "  </thead>\n",
       "  <tbody>\n",
       "    <tr>\n",
       "      <th>0</th>\n",
       "      <td>10</td>\n",
       "      <td>The Prince of Tennis</td>\n",
       "      <td>Comedy, Drama, Shounen, Sports, Tennis, Based ...</td>\n",
       "      <td>Meet Ryoma Echizen, the cocky prince of tennis...</td>\n",
       "    </tr>\n",
       "    <tr>\n",
       "      <th>1</th>\n",
       "      <td>100</td>\n",
       "      <td>Neon Genesis Evangelion</td>\n",
       "      <td>Drama, Mecha, Sci Fi, Conspiracy, Kaijuu, Lone...</td>\n",
       "      <td>In the future, a devastating event known as Se...</td>\n",
       "    </tr>\n",
       "    <tr>\n",
       "      <th>2</th>\n",
       "      <td>1000</td>\n",
       "      <td>Full Metal Panic! The Second Raid</td>\n",
       "      <td>Action, Comedy, Mecha, Sci Fi, Shounen, Milita...</td>\n",
       "      <td>Half a year has passed since Sousuke Sagara to...</td>\n",
       "    </tr>\n",
       "    <tr>\n",
       "      <th>3</th>\n",
       "      <td>10000</td>\n",
       "      <td>22/7: Shampoo no Nioi ga Shita</td>\n",
       "      <td>Idols, School Life, CG Animation</td>\n",
       "      <td>The idol group 22/7 perform the song Shampoo n...</td>\n",
       "    </tr>\n",
       "    <tr>\n",
       "      <th>4</th>\n",
       "      <td>10001</td>\n",
       "      <td>Oshiri Tantei: Puputto Fumutto Kaiketsu Dance</td>\n",
       "      <td>Family Friendly</td>\n",
       "      <td>No synopsis yet - check back soon!</td>\n",
       "    </tr>\n",
       "  </tbody>\n",
       "</table>\n",
       "</div>"
      ],
      "text/plain": [
       "   anime_id                                          title  \\\n",
       "0        10                           The Prince of Tennis   \n",
       "1       100                        Neon Genesis Evangelion   \n",
       "2      1000              Full Metal Panic! The Second Raid   \n",
       "3     10000                 22/7: Shampoo no Nioi ga Shita   \n",
       "4     10001  Oshiri Tantei: Puputto Fumutto Kaiketsu Dance   \n",
       "\n",
       "                                                Tags  \\\n",
       "0  Comedy, Drama, Shounen, Sports, Tennis, Based ...   \n",
       "1  Drama, Mecha, Sci Fi, Conspiracy, Kaijuu, Lone...   \n",
       "2  Action, Comedy, Mecha, Sci Fi, Shounen, Milita...   \n",
       "3                   Idols, School Life, CG Animation   \n",
       "4                                    Family Friendly   \n",
       "\n",
       "                                            Synopsis  \n",
       "0  Meet Ryoma Echizen, the cocky prince of tennis...  \n",
       "1  In the future, a devastating event known as Se...  \n",
       "2  Half a year has passed since Sousuke Sagara to...  \n",
       "3  The idol group 22/7 perform the song Shampoo n...  \n",
       "4                 No synopsis yet - check back soon!  "
      ]
     },
     "execution_count": 9,
     "metadata": {},
     "output_type": "execute_result"
    }
   ],
   "source": [
    "animes.head()"
   ]
  },
  {
   "cell_type": "code",
   "execution_count": 10,
   "id": "82b27a14",
   "metadata": {},
   "outputs": [],
   "source": [
    "import ast\n",
    "# to convert lists of strings to list, we use ast.literal_eval"
   ]
  },
  {
   "cell_type": "code",
   "execution_count": 11,
   "id": "8cc843f4",
   "metadata": {},
   "outputs": [],
   "source": [
    "def convert(text):\n",
    "    L = []\n",
    "    for i in ast.literal_eval(text):\n",
    "        L.append(i['name']) \n",
    "    return L "
   ]
  },
  {
   "cell_type": "code",
   "execution_count": 12,
   "id": "55503498",
   "metadata": {
    "scrolled": true
   },
   "outputs": [],
   "source": [
    "animes.dropna(inplace=True)"
   ]
  },
  {
   "cell_type": "code",
   "execution_count": 13,
   "id": "b74ba990",
   "metadata": {},
   "outputs": [
    {
     "data": {
      "text/plain": [
       "'Comedy, Drama, Shounen, Sports, Tennis, Based on a Manga'"
      ]
     },
     "execution_count": 13,
     "metadata": {},
     "output_type": "execute_result"
    }
   ],
   "source": [
    "animes.iloc[0]['Tags']"
   ]
  },
  {
   "cell_type": "code",
   "execution_count": 14,
   "id": "43b4fd19",
   "metadata": {},
   "outputs": [],
   "source": [
    "def Convert(string):\n",
    "    li = list(string.split(\",\"))\n",
    "    return li"
   ]
  },
  {
   "cell_type": "code",
   "execution_count": 15,
   "id": "38812028",
   "metadata": {},
   "outputs": [],
   "source": [
    "animes['Tags']=animes['Tags'].apply(Convert)"
   ]
  },
  {
   "cell_type": "code",
   "execution_count": 16,
   "id": "c1447e6c",
   "metadata": {},
   "outputs": [
    {
     "data": {
      "text/plain": [
       "['Comedy', ' Drama', ' Shounen', ' Sports', ' Tennis', ' Based on a Manga']"
      ]
     },
     "execution_count": 16,
     "metadata": {},
     "output_type": "execute_result"
    }
   ],
   "source": [
    "animes.iloc[0]['Tags']"
   ]
  },
  {
   "cell_type": "code",
   "execution_count": 17,
   "id": "3dc53bef",
   "metadata": {},
   "outputs": [],
   "source": [
    "def collapse(L):\n",
    "    L1 = []\n",
    "    for i in L:\n",
    "        L1.append(i.replace(\" \",\"\"))\n",
    "    return L1"
   ]
  },
  {
   "cell_type": "code",
   "execution_count": 18,
   "id": "4afe1456",
   "metadata": {},
   "outputs": [],
   "source": [
    "animes['Tags'] = animes['Tags'].apply(collapse)"
   ]
  },
  {
   "cell_type": "code",
   "execution_count": 19,
   "id": "3c87bae6",
   "metadata": {},
   "outputs": [
    {
     "data": {
      "text/plain": [
       "['Comedy', 'Drama', 'Shounen', 'Sports', 'Tennis', 'BasedonaManga']"
      ]
     },
     "execution_count": 19,
     "metadata": {},
     "output_type": "execute_result"
    }
   ],
   "source": [
    "animes.iloc[0]['Tags']"
   ]
  },
  {
   "cell_type": "code",
   "execution_count": 20,
   "id": "e50d0af4",
   "metadata": {},
   "outputs": [
    {
     "data": {
      "text/plain": [
       "'Meet Ryoma Echizen, the cocky prince of tennis. He comes to Japan from America where he is known as the Prince of Tennis – but that is no surprise considering he is the son of the former tennis pro, Nanjiroh Echizen, otherwise known as the Samurai! Upon transferring to the school Seishun Gakuen, he meets the regulars of the tennis club, and becomes the first freshman to become a regular; but he has a lot to learn yet about being a tennis star. Ryoma, along with the rest of his teammates, aspire to win the Nationals; but first, they must defeat the other teams which stand in their way!'"
      ]
     },
     "execution_count": 20,
     "metadata": {},
     "output_type": "execute_result"
    }
   ],
   "source": [
    "animes.iloc[0]['Synopsis']\n",
    "#this shows that synosis is present in form of string so we will convert it to list"
   ]
  },
  {
   "cell_type": "code",
   "execution_count": 21,
   "id": "0a14cf89",
   "metadata": {},
   "outputs": [],
   "source": [
    "# animes['Synopsis']=animes['Synopsis'].apply(Convert)\n",
    "#it will convert to list"
   ]
  },
  {
   "cell_type": "code",
   "execution_count": 22,
   "id": "b7e0ec20",
   "metadata": {},
   "outputs": [],
   "source": [
    "animes['Synopsis'] = animes['Synopsis'].apply(lambda x:x.split())\n",
    "#it will convert string to list of strings"
   ]
  },
  {
   "cell_type": "code",
   "execution_count": 23,
   "id": "305d2358",
   "metadata": {},
   "outputs": [
    {
     "data": {
      "text/plain": [
       "['Meet',\n",
       " 'Ryoma',\n",
       " 'Echizen,',\n",
       " 'the',\n",
       " 'cocky',\n",
       " 'prince',\n",
       " 'of',\n",
       " 'tennis.',\n",
       " 'He',\n",
       " 'comes',\n",
       " 'to',\n",
       " 'Japan',\n",
       " 'from',\n",
       " 'America',\n",
       " 'where',\n",
       " 'he',\n",
       " 'is',\n",
       " 'known',\n",
       " 'as',\n",
       " 'the',\n",
       " 'Prince',\n",
       " 'of',\n",
       " 'Tennis',\n",
       " '–',\n",
       " 'but',\n",
       " 'that',\n",
       " 'is',\n",
       " 'no',\n",
       " 'surprise',\n",
       " 'considering',\n",
       " 'he',\n",
       " 'is',\n",
       " 'the',\n",
       " 'son',\n",
       " 'of',\n",
       " 'the',\n",
       " 'former',\n",
       " 'tennis',\n",
       " 'pro,',\n",
       " 'Nanjiroh',\n",
       " 'Echizen,',\n",
       " 'otherwise',\n",
       " 'known',\n",
       " 'as',\n",
       " 'the',\n",
       " 'Samurai!',\n",
       " 'Upon',\n",
       " 'transferring',\n",
       " 'to',\n",
       " 'the',\n",
       " 'school',\n",
       " 'Seishun',\n",
       " 'Gakuen,',\n",
       " 'he',\n",
       " 'meets',\n",
       " 'the',\n",
       " 'regulars',\n",
       " 'of',\n",
       " 'the',\n",
       " 'tennis',\n",
       " 'club,',\n",
       " 'and',\n",
       " 'becomes',\n",
       " 'the',\n",
       " 'first',\n",
       " 'freshman',\n",
       " 'to',\n",
       " 'become',\n",
       " 'a',\n",
       " 'regular;',\n",
       " 'but',\n",
       " 'he',\n",
       " 'has',\n",
       " 'a',\n",
       " 'lot',\n",
       " 'to',\n",
       " 'learn',\n",
       " 'yet',\n",
       " 'about',\n",
       " 'being',\n",
       " 'a',\n",
       " 'tennis',\n",
       " 'star.',\n",
       " 'Ryoma,',\n",
       " 'along',\n",
       " 'with',\n",
       " 'the',\n",
       " 'rest',\n",
       " 'of',\n",
       " 'his',\n",
       " 'teammates,',\n",
       " 'aspire',\n",
       " 'to',\n",
       " 'win',\n",
       " 'the',\n",
       " 'Nationals;',\n",
       " 'but',\n",
       " 'first,',\n",
       " 'they',\n",
       " 'must',\n",
       " 'defeat',\n",
       " 'the',\n",
       " 'other',\n",
       " 'teams',\n",
       " 'which',\n",
       " 'stand',\n",
       " 'in',\n",
       " 'their',\n",
       " 'way!']"
      ]
     },
     "execution_count": 23,
     "metadata": {},
     "output_type": "execute_result"
    }
   ],
   "source": [
    "animes.iloc[0]['Synopsis']"
   ]
  },
  {
   "cell_type": "code",
   "execution_count": 24,
   "id": "52aafef1",
   "metadata": {},
   "outputs": [],
   "source": [
    "animes['tags']=animes['Tags']+animes['Synopsis']"
   ]
  },
  {
   "cell_type": "code",
   "execution_count": 25,
   "id": "1c56a716",
   "metadata": {},
   "outputs": [
    {
     "data": {
      "text/html": [
       "<div>\n",
       "<style scoped>\n",
       "    .dataframe tbody tr th:only-of-type {\n",
       "        vertical-align: middle;\n",
       "    }\n",
       "\n",
       "    .dataframe tbody tr th {\n",
       "        vertical-align: top;\n",
       "    }\n",
       "\n",
       "    .dataframe thead th {\n",
       "        text-align: right;\n",
       "    }\n",
       "</style>\n",
       "<table border=\"1\" class=\"dataframe\">\n",
       "  <thead>\n",
       "    <tr style=\"text-align: right;\">\n",
       "      <th></th>\n",
       "      <th>anime_id</th>\n",
       "      <th>title</th>\n",
       "      <th>Tags</th>\n",
       "      <th>Synopsis</th>\n",
       "      <th>tags</th>\n",
       "    </tr>\n",
       "  </thead>\n",
       "  <tbody>\n",
       "    <tr>\n",
       "      <th>0</th>\n",
       "      <td>10</td>\n",
       "      <td>The Prince of Tennis</td>\n",
       "      <td>[Comedy, Drama, Shounen, Sports, Tennis, Based...</td>\n",
       "      <td>[Meet, Ryoma, Echizen,, the, cocky, prince, of...</td>\n",
       "      <td>[Comedy, Drama, Shounen, Sports, Tennis, Based...</td>\n",
       "    </tr>\n",
       "    <tr>\n",
       "      <th>1</th>\n",
       "      <td>100</td>\n",
       "      <td>Neon Genesis Evangelion</td>\n",
       "      <td>[Drama, Mecha, SciFi, Conspiracy, Kaijuu, Lone...</td>\n",
       "      <td>[In, the, future,, a, devastating, event, know...</td>\n",
       "      <td>[Drama, Mecha, SciFi, Conspiracy, Kaijuu, Lone...</td>\n",
       "    </tr>\n",
       "    <tr>\n",
       "      <th>2</th>\n",
       "      <td>1000</td>\n",
       "      <td>Full Metal Panic! The Second Raid</td>\n",
       "      <td>[Action, Comedy, Mecha, SciFi, Shounen, Milita...</td>\n",
       "      <td>[Half, a, year, has, passed, since, Sousuke, S...</td>\n",
       "      <td>[Action, Comedy, Mecha, SciFi, Shounen, Milita...</td>\n",
       "    </tr>\n",
       "    <tr>\n",
       "      <th>3</th>\n",
       "      <td>10000</td>\n",
       "      <td>22/7: Shampoo no Nioi ga Shita</td>\n",
       "      <td>[Idols, SchoolLife, CGAnimation]</td>\n",
       "      <td>[The, idol, group, 22/7, perform, the, song, S...</td>\n",
       "      <td>[Idols, SchoolLife, CGAnimation, The, idol, gr...</td>\n",
       "    </tr>\n",
       "    <tr>\n",
       "      <th>4</th>\n",
       "      <td>10001</td>\n",
       "      <td>Oshiri Tantei: Puputto Fumutto Kaiketsu Dance</td>\n",
       "      <td>[FamilyFriendly]</td>\n",
       "      <td>[No, synopsis, yet, -, check, back, soon!]</td>\n",
       "      <td>[FamilyFriendly, No, synopsis, yet, -, check, ...</td>\n",
       "    </tr>\n",
       "  </tbody>\n",
       "</table>\n",
       "</div>"
      ],
      "text/plain": [
       "   anime_id                                          title  \\\n",
       "0        10                           The Prince of Tennis   \n",
       "1       100                        Neon Genesis Evangelion   \n",
       "2      1000              Full Metal Panic! The Second Raid   \n",
       "3     10000                 22/7: Shampoo no Nioi ga Shita   \n",
       "4     10001  Oshiri Tantei: Puputto Fumutto Kaiketsu Dance   \n",
       "\n",
       "                                                Tags  \\\n",
       "0  [Comedy, Drama, Shounen, Sports, Tennis, Based...   \n",
       "1  [Drama, Mecha, SciFi, Conspiracy, Kaijuu, Lone...   \n",
       "2  [Action, Comedy, Mecha, SciFi, Shounen, Milita...   \n",
       "3                   [Idols, SchoolLife, CGAnimation]   \n",
       "4                                   [FamilyFriendly]   \n",
       "\n",
       "                                            Synopsis  \\\n",
       "0  [Meet, Ryoma, Echizen,, the, cocky, prince, of...   \n",
       "1  [In, the, future,, a, devastating, event, know...   \n",
       "2  [Half, a, year, has, passed, since, Sousuke, S...   \n",
       "3  [The, idol, group, 22/7, perform, the, song, S...   \n",
       "4         [No, synopsis, yet, -, check, back, soon!]   \n",
       "\n",
       "                                                tags  \n",
       "0  [Comedy, Drama, Shounen, Sports, Tennis, Based...  \n",
       "1  [Drama, Mecha, SciFi, Conspiracy, Kaijuu, Lone...  \n",
       "2  [Action, Comedy, Mecha, SciFi, Shounen, Milita...  \n",
       "3  [Idols, SchoolLife, CGAnimation, The, idol, gr...  \n",
       "4  [FamilyFriendly, No, synopsis, yet, -, check, ...  "
      ]
     },
     "execution_count": 25,
     "metadata": {},
     "output_type": "execute_result"
    }
   ],
   "source": [
    "animes.head()"
   ]
  },
  {
   "cell_type": "code",
   "execution_count": 26,
   "id": "3b7f8fe3",
   "metadata": {},
   "outputs": [],
   "source": [
    "new = animes.drop(columns=['Tags','Synopsis'])"
   ]
  },
  {
   "cell_type": "code",
   "execution_count": 27,
   "id": "98f9c718",
   "metadata": {},
   "outputs": [
    {
     "data": {
      "text/html": [
       "<div>\n",
       "<style scoped>\n",
       "    .dataframe tbody tr th:only-of-type {\n",
       "        vertical-align: middle;\n",
       "    }\n",
       "\n",
       "    .dataframe tbody tr th {\n",
       "        vertical-align: top;\n",
       "    }\n",
       "\n",
       "    .dataframe thead th {\n",
       "        text-align: right;\n",
       "    }\n",
       "</style>\n",
       "<table border=\"1\" class=\"dataframe\">\n",
       "  <thead>\n",
       "    <tr style=\"text-align: right;\">\n",
       "      <th></th>\n",
       "      <th>anime_id</th>\n",
       "      <th>title</th>\n",
       "      <th>tags</th>\n",
       "    </tr>\n",
       "  </thead>\n",
       "  <tbody>\n",
       "    <tr>\n",
       "      <th>0</th>\n",
       "      <td>10</td>\n",
       "      <td>The Prince of Tennis</td>\n",
       "      <td>[Comedy, Drama, Shounen, Sports, Tennis, Based...</td>\n",
       "    </tr>\n",
       "    <tr>\n",
       "      <th>1</th>\n",
       "      <td>100</td>\n",
       "      <td>Neon Genesis Evangelion</td>\n",
       "      <td>[Drama, Mecha, SciFi, Conspiracy, Kaijuu, Lone...</td>\n",
       "    </tr>\n",
       "    <tr>\n",
       "      <th>2</th>\n",
       "      <td>1000</td>\n",
       "      <td>Full Metal Panic! The Second Raid</td>\n",
       "      <td>[Action, Comedy, Mecha, SciFi, Shounen, Milita...</td>\n",
       "    </tr>\n",
       "    <tr>\n",
       "      <th>3</th>\n",
       "      <td>10000</td>\n",
       "      <td>22/7: Shampoo no Nioi ga Shita</td>\n",
       "      <td>[Idols, SchoolLife, CGAnimation, The, idol, gr...</td>\n",
       "    </tr>\n",
       "    <tr>\n",
       "      <th>4</th>\n",
       "      <td>10001</td>\n",
       "      <td>Oshiri Tantei: Puputto Fumutto Kaiketsu Dance</td>\n",
       "      <td>[FamilyFriendly, No, synopsis, yet, -, check, ...</td>\n",
       "    </tr>\n",
       "  </tbody>\n",
       "</table>\n",
       "</div>"
      ],
      "text/plain": [
       "   anime_id                                          title  \\\n",
       "0        10                           The Prince of Tennis   \n",
       "1       100                        Neon Genesis Evangelion   \n",
       "2      1000              Full Metal Panic! The Second Raid   \n",
       "3     10000                 22/7: Shampoo no Nioi ga Shita   \n",
       "4     10001  Oshiri Tantei: Puputto Fumutto Kaiketsu Dance   \n",
       "\n",
       "                                                tags  \n",
       "0  [Comedy, Drama, Shounen, Sports, Tennis, Based...  \n",
       "1  [Drama, Mecha, SciFi, Conspiracy, Kaijuu, Lone...  \n",
       "2  [Action, Comedy, Mecha, SciFi, Shounen, Milita...  \n",
       "3  [Idols, SchoolLife, CGAnimation, The, idol, gr...  \n",
       "4  [FamilyFriendly, No, synopsis, yet, -, check, ...  "
      ]
     },
     "execution_count": 27,
     "metadata": {},
     "output_type": "execute_result"
    }
   ],
   "source": [
    "new.head()"
   ]
  },
  {
   "cell_type": "code",
   "execution_count": 28,
   "id": "81f4559d",
   "metadata": {},
   "outputs": [
    {
     "data": {
      "text/plain": [
       "'Comedy Drama Shounen Sports Tennis BasedonaManga Meet Ryoma Echizen, the cocky prince of tennis. He comes to Japan from America where he is known as the Prince of Tennis – but that is no surprise considering he is the son of the former tennis pro, Nanjiroh Echizen, otherwise known as the Samurai! Upon transferring to the school Seishun Gakuen, he meets the regulars of the tennis club, and becomes the first freshman to become a regular; but he has a lot to learn yet about being a tennis star. Ryoma, along with the rest of his teammates, aspire to win the Nationals; but first, they must defeat the other teams which stand in their way!'"
      ]
     },
     "execution_count": 28,
     "metadata": {},
     "output_type": "execute_result"
    }
   ],
   "source": [
    "new['tags'] = new['tags'].apply(lambda x: \" \".join(x))\n",
    "new.iloc[0]['tags']"
   ]
  },
  {
   "cell_type": "code",
   "execution_count": 29,
   "id": "dd314af8",
   "metadata": {},
   "outputs": [
    {
     "data": {
      "text/html": [
       "<div>\n",
       "<style scoped>\n",
       "    .dataframe tbody tr th:only-of-type {\n",
       "        vertical-align: middle;\n",
       "    }\n",
       "\n",
       "    .dataframe tbody tr th {\n",
       "        vertical-align: top;\n",
       "    }\n",
       "\n",
       "    .dataframe thead th {\n",
       "        text-align: right;\n",
       "    }\n",
       "</style>\n",
       "<table border=\"1\" class=\"dataframe\">\n",
       "  <thead>\n",
       "    <tr style=\"text-align: right;\">\n",
       "      <th></th>\n",
       "      <th>anime_id</th>\n",
       "      <th>title</th>\n",
       "      <th>tags</th>\n",
       "    </tr>\n",
       "  </thead>\n",
       "  <tbody>\n",
       "    <tr>\n",
       "      <th>0</th>\n",
       "      <td>10</td>\n",
       "      <td>The Prince of Tennis</td>\n",
       "      <td>Comedy Drama Shounen Sports Tennis BasedonaMan...</td>\n",
       "    </tr>\n",
       "    <tr>\n",
       "      <th>1</th>\n",
       "      <td>100</td>\n",
       "      <td>Neon Genesis Evangelion</td>\n",
       "      <td>Drama Mecha SciFi Conspiracy Kaijuu Loneliness...</td>\n",
       "    </tr>\n",
       "    <tr>\n",
       "      <th>2</th>\n",
       "      <td>1000</td>\n",
       "      <td>Full Metal Panic! The Second Raid</td>\n",
       "      <td>Action Comedy Mecha SciFi Shounen Military Rea...</td>\n",
       "    </tr>\n",
       "    <tr>\n",
       "      <th>3</th>\n",
       "      <td>10000</td>\n",
       "      <td>22/7: Shampoo no Nioi ga Shita</td>\n",
       "      <td>Idols SchoolLife CGAnimation The idol group 22...</td>\n",
       "    </tr>\n",
       "    <tr>\n",
       "      <th>4</th>\n",
       "      <td>10001</td>\n",
       "      <td>Oshiri Tantei: Puputto Fumutto Kaiketsu Dance</td>\n",
       "      <td>FamilyFriendly No synopsis yet - check back soon!</td>\n",
       "    </tr>\n",
       "  </tbody>\n",
       "</table>\n",
       "</div>"
      ],
      "text/plain": [
       "   anime_id                                          title  \\\n",
       "0        10                           The Prince of Tennis   \n",
       "1       100                        Neon Genesis Evangelion   \n",
       "2      1000              Full Metal Panic! The Second Raid   \n",
       "3     10000                 22/7: Shampoo no Nioi ga Shita   \n",
       "4     10001  Oshiri Tantei: Puputto Fumutto Kaiketsu Dance   \n",
       "\n",
       "                                                tags  \n",
       "0  Comedy Drama Shounen Sports Tennis BasedonaMan...  \n",
       "1  Drama Mecha SciFi Conspiracy Kaijuu Loneliness...  \n",
       "2  Action Comedy Mecha SciFi Shounen Military Rea...  \n",
       "3  Idols SchoolLife CGAnimation The idol group 22...  \n",
       "4  FamilyFriendly No synopsis yet - check back soon!  "
      ]
     },
     "execution_count": 29,
     "metadata": {},
     "output_type": "execute_result"
    }
   ],
   "source": [
    "new.head()"
   ]
  },
  {
   "cell_type": "code",
   "execution_count": 30,
   "id": "4f802052",
   "metadata": {},
   "outputs": [],
   "source": [
    "from sklearn.feature_extraction.text import CountVectorizer\n",
    "cv = CountVectorizer(max_features=5000,stop_words='english')"
   ]
  },
  {
   "cell_type": "code",
   "execution_count": 31,
   "id": "ec5485f1",
   "metadata": {},
   "outputs": [],
   "source": [
    "vector = cv.fit_transform(new['tags']).toarray()"
   ]
  },
  {
   "cell_type": "code",
   "execution_count": 32,
   "id": "43c90321",
   "metadata": {},
   "outputs": [
    {
     "data": {
      "text/plain": [
       "(16615, 5000)"
      ]
     },
     "execution_count": 32,
     "metadata": {},
     "output_type": "execute_result"
    }
   ],
   "source": [
    "vector.shape"
   ]
  },
  {
   "cell_type": "code",
   "execution_count": 33,
   "id": "747cc59e",
   "metadata": {},
   "outputs": [],
   "source": [
    "from sklearn.metrics.pairwise import cosine_similarity"
   ]
  },
  {
   "cell_type": "code",
   "execution_count": 34,
   "id": "3342f390",
   "metadata": {},
   "outputs": [],
   "source": [
    "similarity = cosine_similarity(vector)"
   ]
  },
  {
   "cell_type": "code",
   "execution_count": 35,
   "id": "733d090d",
   "metadata": {},
   "outputs": [
    {
     "data": {
      "text/plain": [
       "array([[1.        , 0.08643165, 0.02834955, ..., 0.        , 0.        ,\n",
       "        0.07718039],\n",
       "       [0.08643165, 1.        , 0.06452452, ..., 0.        , 0.08097763,\n",
       "        0.04391629],\n",
       "       [0.02834955, 0.06452452, 1.        , ..., 0.        , 0.07968191,\n",
       "        0.        ],\n",
       "       ...,\n",
       "       [0.        , 0.        , 0.        , ..., 1.        , 0.31622777,\n",
       "        0.0571662 ],\n",
       "       [0.        , 0.08097763, 0.07968191, ..., 0.31622777, 1.        ,\n",
       "        0.        ],\n",
       "       [0.07718039, 0.04391629, 0.        , ..., 0.0571662 , 0.        ,\n",
       "        1.        ]])"
      ]
     },
     "execution_count": 35,
     "metadata": {},
     "output_type": "execute_result"
    }
   ],
   "source": [
    "similarity"
   ]
  },
  {
   "cell_type": "code",
   "execution_count": 36,
   "id": "edbf16cf",
   "metadata": {},
   "outputs": [
    {
     "data": {
      "text/plain": [
       "array([1.        , 0.08643165, 0.02834955, ..., 0.        , 0.        ,\n",
       "       0.07718039])"
      ]
     },
     "execution_count": 36,
     "metadata": {},
     "output_type": "execute_result"
    }
   ],
   "source": [
    "similarity[0]"
   ]
  },
  {
   "cell_type": "code",
   "execution_count": 37,
   "id": "dc0a85ae",
   "metadata": {},
   "outputs": [
    {
     "data": {
      "text/plain": [
       "8371"
      ]
     },
     "execution_count": 37,
     "metadata": {},
     "output_type": "execute_result"
    }
   ],
   "source": [
    "new[new['title'] == 'Naruto'].index[0]"
   ]
  },
  {
   "cell_type": "code",
   "execution_count": 38,
   "id": "6278546f",
   "metadata": {},
   "outputs": [],
   "source": [
    "def recommend(anime):\n",
    "    index = new[new['title'] == anime].index[0]\n",
    "    distances = sorted(list(enumerate(similarity[index])),reverse=True,key = lambda x: x[1])\n",
    "    for i in distances[1:6]:\n",
    "        print(new.iloc[i[0]].title)\n",
    "\n",
    "\n",
    "# sorted(list(enumerate(similarity[index])),reverse=True,key = lambda x: x[1])\n",
    "# the above code attachs the indices with the row and then sort then wrt to 2nd column"
   ]
  },
  {
   "cell_type": "code",
   "execution_count": 42,
   "id": "6c8f1761",
   "metadata": {
    "scrolled": false
   },
   "outputs": [
    {
     "name": "stdout",
     "output_type": "stream",
     "text": [
      "The Prince of Tennis Movie 2: Eikoku-shiki Teikyuu Shiro Kessen!\n",
      "Prince of Tennis: Best Games!!\n",
      "The Prince of Tennis: New Year's Special\n",
      "Usakame\n",
      "Baby Steps\n"
     ]
    }
   ],
   "source": [
    "recommend('The Prince of Tennis')"
   ]
  },
  {
   "cell_type": "code",
   "execution_count": 40,
   "id": "753d9795",
   "metadata": {},
   "outputs": [],
   "source": [
    "import pickle"
   ]
  },
  {
   "cell_type": "code",
   "execution_count": 41,
   "id": "012050e0",
   "metadata": {},
   "outputs": [],
   "source": [
    "pickle.dump(new,open('anime_list.pkl','wb'))\n",
    "pickle.dump(similarity,open('similarity.pkl','wb'))"
   ]
  },
  {
   "cell_type": "code",
   "execution_count": null,
   "id": "9a2ab959",
   "metadata": {},
   "outputs": [],
   "source": []
  }
 ],
 "metadata": {
  "kernelspec": {
   "display_name": "Python 3",
   "language": "python",
   "name": "python3"
  },
  "language_info": {
   "codemirror_mode": {
    "name": "ipython",
    "version": 3
   },
   "file_extension": ".py",
   "mimetype": "text/x-python",
   "name": "python",
   "nbconvert_exporter": "python",
   "pygments_lexer": "ipython3",
   "version": "3.8.8"
  }
 },
 "nbformat": 4,
 "nbformat_minor": 5
}
